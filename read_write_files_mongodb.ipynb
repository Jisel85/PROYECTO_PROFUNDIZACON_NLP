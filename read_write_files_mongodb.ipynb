{
 "cells": [
  {
   "attachments": {},
   "cell_type": "markdown",
   "metadata": {},
   "source": [
    "# ***Read and write files in mongodb***"
   ]
  },
  {
   "attachments": {},
   "cell_type": "markdown",
   "metadata": {},
   "source": [
    "sudo systemctl status mongod"
   ]
  },
  {
   "cell_type": "code",
   "execution_count": 1,
   "metadata": {},
   "outputs": [],
   "source": [
    "import os\n",
    "import pandas as pd\n",
    "import numpy as np\n",
    "from pathlib import Path\n",
    "from striprtf.striprtf import rtf_to_text\n",
    "from pymongo import MongoClient\n",
    "from pprint import pprint"
   ]
  },
  {
   "cell_type": "code",
   "execution_count": 2,
   "metadata": {},
   "outputs": [],
   "source": [
    "MAIN_PATH = Path(os.getcwd())\n",
    "##\n",
    "def get_text_sentence_raw(sentence):\n",
    "    path_to_read = MAIN_PATH / \"data\" / \"downloads_files_sentences\" / f'{sentence}.rtf'\n",
    "    with open(path_to_read, 'r') as doc:\n",
    "        rtf_text = doc.read()\n",
    "    string_sentence = rtf_to_text(rtf_text)\n",
    "    return string_sentence"
   ]
  },
  {
   "attachments": {},
   "cell_type": "markdown",
   "metadata": {},
   "source": [
    "## ***Test write in mongodb***"
   ]
  },
  {
   "cell_type": "code",
   "execution_count": 3,
   "metadata": {},
   "outputs": [],
   "source": [
    "# DROP mongodb #\n",
    "#client = MongoClient('localhost', 27017)\n",
    "# db_name = 'sentences'\n",
    "# db = client[db_name]\n",
    "# client.drop_database(db_name)\n",
    "# client.close()"
   ]
  },
  {
   "cell_type": "code",
   "execution_count": 3,
   "metadata": {},
   "outputs": [],
   "source": [
    "def write_sentence_in_mongodb(sentence):\n",
    "    client = MongoClient('localhost', 27017)\n",
    "    db = client['sentences']\n",
    "    collection = db['sentences_raw']\n",
    "    sentence_raw = get_text_sentence_raw(sentence)\n",
    "    document = {'id_sentence': sentence, 'text_raw': sentence_raw,}\n",
    "    collection.insert_one(document)\n",
    "    client.close()\n",
    "    return None\n",
    "\n",
    "write_sentence_in_mongodb(\"C-010-95\")"
   ]
  },
  {
   "cell_type": "code",
   "execution_count": 4,
   "metadata": {},
   "outputs": [
    {
     "data": {
      "text/html": [
       "<div>\n",
       "<style scoped>\n",
       "    .dataframe tbody tr th:only-of-type {\n",
       "        vertical-align: middle;\n",
       "    }\n",
       "\n",
       "    .dataframe tbody tr th {\n",
       "        vertical-align: top;\n",
       "    }\n",
       "\n",
       "    .dataframe thead th {\n",
       "        text-align: right;\n",
       "    }\n",
       "</style>\n",
       "<table border=\"1\" class=\"dataframe\">\n",
       "  <thead>\n",
       "    <tr style=\"text-align: right;\">\n",
       "      <th></th>\n",
       "      <th>id_sentence</th>\n",
       "      <th>text_raw</th>\n",
       "    </tr>\n",
       "  </thead>\n",
       "  <tbody>\n",
       "    <tr>\n",
       "      <th>0</th>\n",
       "      <td>C-010-95</td>\n",
       "      <td>Sentencia No. C-010/95\\n\\nSALARIO INTEGRAL-Exe...</td>\n",
       "    </tr>\n",
       "  </tbody>\n",
       "</table>\n",
       "</div>"
      ],
      "text/plain": [
       "  id_sentence                                           text_raw\n",
       "0    C-010-95  Sentencia No. C-010/95\\n\\nSALARIO INTEGRAL-Exe..."
      ]
     },
     "execution_count": 4,
     "metadata": {},
     "output_type": "execute_result"
    }
   ],
   "source": [
    "def get_info_mongodb(sentence):\n",
    "    client = MongoClient('localhost', 27017)\n",
    "    db = client['sentences']\n",
    "    collection = db['sentences_raw']\n",
    "    query = {'id_sentence': sentence}\n",
    "    document = collection.find_one(query)\n",
    "    document.pop('_id',None)\n",
    "    df_result = pd.DataFrame([document])\n",
    "    return df_result\n",
    "\n",
    "test = get_info_mongodb(\"C-010-95\")\n",
    "test"
   ]
  },
  {
   "cell_type": "code",
   "execution_count": 5,
   "metadata": {},
   "outputs": [
    {
     "data": {
      "text/html": [
       "<div>\n",
       "<style scoped>\n",
       "    .dataframe tbody tr th:only-of-type {\n",
       "        vertical-align: middle;\n",
       "    }\n",
       "\n",
       "    .dataframe tbody tr th {\n",
       "        vertical-align: top;\n",
       "    }\n",
       "\n",
       "    .dataframe thead th {\n",
       "        text-align: right;\n",
       "    }\n",
       "</style>\n",
       "<table border=\"1\" class=\"dataframe\">\n",
       "  <thead>\n",
       "    <tr style=\"text-align: right;\">\n",
       "      <th></th>\n",
       "      <th>Sentencia</th>\n",
       "      <th>Proceso</th>\n",
       "      <th>Expediente Tipo</th>\n",
       "      <th>Expediente NÃºmero</th>\n",
       "      <th>Magistrado(a) ponente</th>\n",
       "      <th>Sentencia Tipo</th>\n",
       "      <th>Fecha Sentencia</th>\n",
       "      <th>Año</th>\n",
       "      <th>SV-SPV</th>\n",
       "      <th>AV-APV</th>\n",
       "      <th>id_sentence</th>\n",
       "      <th>text_raw</th>\n",
       "    </tr>\n",
       "  </thead>\n",
       "  <tbody>\n",
       "    <tr>\n",
       "      <th>0</th>\n",
       "      <td>C-010-95</td>\n",
       "      <td>Demanda de inconstitucionalidad</td>\n",
       "      <td>D</td>\n",
       "      <td>634</td>\n",
       "      <td>Jorge Arango MejÃ­a</td>\n",
       "      <td>C</td>\n",
       "      <td>1/17/1995 0:00</td>\n",
       "      <td>1995</td>\n",
       "      <td>No</td>\n",
       "      <td>No</td>\n",
       "      <td>C-010-95</td>\n",
       "      <td>Sentencia No. C-010/95\\n\\nSALARIO INTEGRAL-Exe...</td>\n",
       "    </tr>\n",
       "  </tbody>\n",
       "</table>\n",
       "</div>"
      ],
      "text/plain": [
       "  Sentencia                          Proceso Expediente Tipo   \n",
       "0  C-010-95  Demanda de inconstitucionalidad               D  \\\n",
       "\n",
       "   Expediente NÃºmero Magistrado(a) ponente Sentencia Tipo Fecha Sentencia   \n",
       "0                 634   Jorge Arango MejÃ­a              C  1/17/1995 0:00  \\\n",
       "\n",
       "    Año SV-SPV AV-APV id_sentence   \n",
       "0  1995     No     No    C-010-95  \\\n",
       "\n",
       "                                            text_raw  \n",
       "0  Sentencia No. C-010/95\\n\\nSALARIO INTEGRAL-Exe...  "
      ]
     },
     "execution_count": 5,
     "metadata": {},
     "output_type": "execute_result"
    }
   ],
   "source": [
    "df = pd.read_csv(MAIN_PATH / \"data\" / \"Sentencias_Corte_1992-2022.csv\")\n",
    "df.merge(test, left_on=['Sentencia'], right_on=['id_sentence'], how='inner')"
   ]
  }
 ],
 "metadata": {
  "kernelspec": {
   "display_name": "proyect_nlp",
   "language": "python",
   "name": "python3"
  },
  "language_info": {
   "codemirror_mode": {
    "name": "ipython",
    "version": 3
   },
   "file_extension": ".py",
   "mimetype": "text/x-python",
   "name": "python",
   "nbconvert_exporter": "python",
   "pygments_lexer": "ipython3",
   "version": "3.10.11"
  },
  "orig_nbformat": 4
 },
 "nbformat": 4,
 "nbformat_minor": 2
}
